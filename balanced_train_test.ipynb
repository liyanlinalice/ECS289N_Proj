{
 "cells": [
  {
   "cell_type": "code",
   "execution_count": 1,
   "metadata": {
    "collapsed": true
   },
   "outputs": [],
   "source": [
    "import numpy as np\n",
    "from sklearn.model_selection import train_test_split\n",
    "from collections import Counter\n",
    "import pandas as pd\n",
    "import numpy as np\n",
    "import matplotlib.pyplot as plt"
   ]
  },
  {
   "cell_type": "markdown",
   "metadata": {
    "collapsed": true
   },
   "source": [
    "Stars = np.load('../../not_editable/Review_Star.npy')\n",
    "Review_Vectors = np.load('../../not_editable/Feature_Vector.npy')"
   ]
  },
  {
   "cell_type": "markdown",
   "metadata": {},
   "source": [
    "print Counter(Stars)\n",
    "print Review_Vectors.shape\n",
    "print Stars.shape\n",
    "print type(Review_Vectors)\n",
    "print type(Stars)"
   ]
  },
  {
   "cell_type": "code",
   "execution_count": 149,
   "metadata": {},
   "outputs": [
    {
     "name": "stdout",
     "output_type": "stream",
     "text": [
      "13992 13992 13992 13992 13992\n",
      "69960\n",
      "69960\n"
     ]
    }
   ],
   "source": [
    "#pd.DataFrame(Review_Vectors, Stars )\n",
    "review_v1 =[];review_v2 = []; review_v3 = []; review_v4 = []; review_v5 = []\n",
    "star1 = [];star2 = [];star3 = [];star4 = [];star5 =[]\n",
    "count1 = 0;count2 = 0;count3 = 0;count4 =0;count5=0\n",
    "n = 13992\n",
    "for star, review in zip(Stars, Review_Vectors):\n",
    "    #print star\n",
    "    if (star==1 and count1<n):\n",
    "        count1 += 1\n",
    "        star1.append(star)\n",
    "        review_v1.append(review)\n",
    "    elif (star==2 and count2<n):\n",
    "        count2 += 1\n",
    "        star2.append(star)\n",
    "        review_v2.append(review)\n",
    "    elif (star==3 and count3<n):\n",
    "        count3 += 1\n",
    "        star3.append(star)\n",
    "        review_v3.append(review)\n",
    "    elif (star==4 and count4<n):\n",
    "        count4 += 1\n",
    "        star4.append(star)\n",
    "        review_v4.append(review)\n",
    "    elif (star==5 and count5<n):\n",
    "        count5 += 1\n",
    "        star5.append(star)\n",
    "        review_v5.append(review)\n",
    "    elif (count1+count2+count3+count4+count5)==(5*n):\n",
    "        break\n",
    "print count1,count2,count3,count4,count5\n",
    "print (count1+count2+count3+count4+count5)\n",
    "print 5*n"
   ]
  },
  {
   "cell_type": "code",
   "execution_count": 150,
   "metadata": {},
   "outputs": [
    {
     "name": "stdout",
     "output_type": "stream",
     "text": [
      "<type 'list'>\n",
      "<type 'list'>\n",
      "<type 'numpy.ndarray'>\n",
      "<type 'numpy.ndarray'>\n"
     ]
    }
   ],
   "source": [
    "balanced_star = star1 + star2 + star3 + star4 + star5 \n",
    "balanced_review = review_v1+ review_v2 +review_v3 +review_v4+ review_v5 \n",
    "print type(balanced_star)\n",
    "print type(balanced_review)\n",
    "balanced_star = np.asarray(balanced_star)\n",
    "balanced_review = np.asarray(balanced_review)\n",
    "print type(balanced_star)\n",
    "print type(balanced_review)"
   ]
  },
  {
   "cell_type": "markdown",
   "metadata": {},
   "source": [
    "The distribution of y_train is Counter({5: 46460, 4: 25866, 1: 16310, 3: 13361, 2: 9843})\n",
    "The distribution of y_test is Counter({5: 19789, 4: 11211, 1: 6975, 3: 5808, 2: 4149}"
   ]
  },
  {
   "cell_type": "code",
   "execution_count": 151,
   "metadata": {},
   "outputs": [
    {
     "name": "stdout",
     "output_type": "stream",
     "text": [
      "The distribution of y is  Counter({1.0: 13992, 2.0: 13992, 3.0: 13992, 4.0: 13992, 5.0: 13992})\n",
      "The distribution of y_train is Counter({2.0: 9795, 5.0: 9795, 1.0: 9794, 3.0: 9794, 4.0: 9794})\n",
      "The distribution of y_test is Counter({1.0: 4198, 3.0: 4198, 4.0: 4198, 2.0: 4197, 5.0: 4197})\n"
     ]
    }
   ],
   "source": [
    "x_train, x_test, y_train, y_test = train_test_split(balanced_review, balanced_star,  stratify=balanced_star, test_size=0.3, random_state=42)\n",
    "\n",
    "print \"The distribution of y is \", Counter(balanced_star)\n",
    "print \"The distribution of y_train is\", Counter(y_train)\n",
    "print \"The distribution of y_test is\", Counter(y_test)\n",
    "\n",
    "np.save(\"balance/x_train\", x_train)\n",
    "np.save(\"balance/x_test\", x_test)\n",
    "np.save(\"balance/y_train\", y_train)\n",
    "np.save(\"balance/y_test\", y_test)\n"
   ]
  },
  {
   "cell_type": "code",
   "execution_count": 152,
   "metadata": {},
   "outputs": [
    {
     "data": {
      "image/png": "[encoded data removed]",
      "text/plain": [
       "<matplotlib.figure.Figure at 0x1a2aa1e650>"
      ]
     },
     "metadata": {},
     "output_type": "display_data"
    }
   ],
   "source": [
    "\n",
    "plt.hist(y_train)\n",
    "plt.title(\"Histogram with 'auto' bins\")\n",
    "plt.show()"
   ]
  },
  {
   "cell_type": "code",
   "execution_count": 153,
   "metadata": {},
   "outputs": [
    {
     "data": {
      "image/png": "[encoded data removed]",
      "text/plain": [
       "<matplotlib.figure.Figure at 0x1a1ec60dd0>"
      ]
     },
     "metadata": {},
     "output_type": "display_data"
    }
   ],
   "source": [
    "plt.hist(y_test)\n",
    "plt.title(\"Histogram with 'auto' bins\")\n",
    "plt.show()"
   ]
  },
  {
   "cell_type": "code",
   "execution_count": 154,
   "metadata": {},
   "outputs": [
    {
     "data": {
      "image/png": "[encoded data removed]",
      "text/plain": [
       "<matplotlib.figure.Figure at 0x1072055d0>"
      ]
     },
     "metadata": {},
     "output_type": "display_data"
    }
   ],
   "source": [
    "plt.hist(balanced_star)\n",
    "plt.title(\"Histogram with 'auto' bins\")\n",
    "plt.show()"
   ]
  },
  {
   "cell_type": "code",
   "execution_count": 2,
   "metadata": {
    "collapsed": true
   },
   "outputs": [],
   "source": [
    "tt = np.load('../../not_editable/reviews_rating300limit_4million.pkl')\n",
    "tt.head()"
   ]
  },
  {
   "cell_type": "code",
   "execution_count": null,
   "metadata": {
    "collapsed": true
   },
   "outputs": [],
   "source": []
  },
  {
   "cell_type": "code",
   "execution_count": 6,
   "metadata": {},
   "outputs": [
    {
     "data": {
      "text/html": [
       "<div>\n",
       "<style>\n",
       "    .dataframe thead tr:only-child th {\n",
       "        text-align: right;\n",
       "    }\n",
       "\n",
       "    .dataframe thead th {\n",
       "        text-align: left;\n",
       "    }\n",
       "\n",
       "    .dataframe tbody tr th {\n",
       "        vertical-align: top;\n",
       "    }\n",
       "</style>\n",
       "<table border=\"1\" class=\"dataframe\">\n",
       "  <thead>\n",
       "    <tr style=\"text-align: right;\">\n",
       "      <th></th>\n",
       "      <th>reviews</th>\n",
       "      <th>stars</th>\n",
       "    </tr>\n",
       "  </thead>\n",
       "  <tbody>\n",
       "    <tr>\n",
       "      <th>0</th>\n",
       "      <td>My girlfriend and I stayed here for 3 nights a...</td>\n",
       "      <td>5</td>\n",
       "    </tr>\n",
       "    <tr>\n",
       "      <th>1</th>\n",
       "      <td>If you need an inexpensive place to stay for a...</td>\n",
       "      <td>3</td>\n",
       "    </tr>\n",
       "    <tr>\n",
       "      <th>2</th>\n",
       "      <td>Location is everything and this hotel has it! ...</td>\n",
       "      <td>4</td>\n",
       "    </tr>\n",
       "    <tr>\n",
       "      <th>3</th>\n",
       "      <td>gute lage im stadtzentrum. shoppingmeile und s...</td>\n",
       "      <td>5</td>\n",
       "    </tr>\n",
       "    <tr>\n",
       "      <th>4</th>\n",
       "      <td>Erstklassige Lage. Dazu ist alles geschrieben ...</td>\n",
       "      <td>5</td>\n",
       "    </tr>\n",
       "  </tbody>\n",
       "</table>\n",
       "</div>"
      ],
      "text/plain": [
       "                                             reviews  stars\n",
       "0  My girlfriend and I stayed here for 3 nights a...      5\n",
       "1  If you need an inexpensive place to stay for a...      3\n",
       "2  Location is everything and this hotel has it! ...      4\n",
       "3  gute lage im stadtzentrum. shoppingmeile und s...      5\n",
       "4  Erstklassige Lage. Dazu ist alles geschrieben ...      5"
      ]
     },
     "execution_count": 6,
     "metadata": {},
     "output_type": "execute_result"
    }
   ],
   "source": []
  },
  {
   "cell_type": "code",
   "execution_count": 14,
   "metadata": {},
   "outputs": [
    {
     "name": "stdout",
     "output_type": "stream",
     "text": [
      "4451334\n"
     ]
    },
    {
     "data": {
      "image/png": "[encoded data removed]",
      "text/plain": [
       "<matplotlib.figure.Figure at 0x1a2154e4d0>"
      ]
     },
     "metadata": {},
     "output_type": "display_data"
    }
   ],
   "source": [
    "plt.hist(tt.stars)\n",
    "print len(tt.stars)\n",
    "plt.title(\"Distribution of Raw Review Ratings\")\n",
    "plt.show()"
   ]
  },
  {
   "cell_type": "code",
   "execution_count": 10,
   "metadata": {},
   "outputs": [
    {
     "name": "stdout",
     "output_type": "stream",
     "text": [
      "Counter({5: 1921522, 4: 1069672, 1: 571433, 3: 526013, 2: 362694})\n"
     ]
    }
   ],
   "source": [
    "print Counter(tt.stars)"
   ]
  },
  {
   "cell_type": "code",
   "execution_count": 11,
   "metadata": {},
   "outputs": [
    {
     "name": "stdout",
     "output_type": "stream",
     "text": [
      "362694 362694 362694 362694 362694\n",
      "1813470\n",
      "1813470\n",
      "<type 'list'>\n",
      "<type 'list'>\n",
      "<type 'numpy.ndarray'>\n",
      "<type 'numpy.ndarray'>\n"
     ]
    }
   ],
   "source": [
    "review_v1 =[];review_v2 = []; review_v3 = []; review_v4 = []; review_v5 = []\n",
    "star1 = [];star2 = [];star3 = [];star4 = [];star5 =[]\n",
    "count1 = 0;count2 = 0;count3 = 0;count4 =0;count5=0\n",
    "n = 362694\n",
    "for star, review in zip(tt.stars,tt.reviews):\n",
    "    #print star\n",
    "    if (star==1 and count1<n):\n",
    "        count1 += 1\n",
    "        star1.append(star)\n",
    "        review_v1.append(review)\n",
    "    elif (star==2 and count2<n):\n",
    "        count2 += 1\n",
    "        star2.append(star)\n",
    "        review_v2.append(review)\n",
    "    elif (star==3 and count3<n):\n",
    "        count3 += 1\n",
    "        star3.append(star)\n",
    "        review_v3.append(review)\n",
    "    elif (star==4 and count4<n):\n",
    "        count4 += 1\n",
    "        star4.append(star)\n",
    "        review_v4.append(review)\n",
    "    elif (star==5 and count5<n):\n",
    "        count5 += 1\n",
    "        star5.append(star)\n",
    "        review_v5.append(review)\n",
    "    elif (count1+count2+count3+count4+count5)==(5*n):\n",
    "        break\n",
    "print count1,count2,count3,count4,count5\n",
    "print (count1+count2+count3+count4+count5)\n",
    "print 5*n\n",
    "\n",
    "balanced_star = star1 + star2 + star3 + star4 + star5 \n",
    "balanced_review = review_v1+ review_v2 +review_v3 +review_v4+ review_v5 \n",
    "print type(balanced_star)\n",
    "print type(balanced_review)\n",
    "balanced_star = np.asarray(balanced_star)\n",
    "balanced_review = np.asarray(balanced_review)\n",
    "print type(balanced_star)\n",
    "print type(balanced_review)\n",
    "\n"
   ]
  },
  {
   "cell_type": "code",
   "execution_count": null,
   "metadata": {
    "collapsed": true
   },
   "outputs": [],
   "source": [
    "df = pd.DataFrame(data={'stars':balanced_star, 'reviews': balanced_review})\n",
    "#df.to_excel('reviews_rating300limit.xlsx', sheet_name='sheet1', index=False)\n",
    "df.to_pickle('reviews_rating300limit_all_balanced.pkl')  # where to save it, usually as a .pkl\n"
   ]
  },
  {
   "cell_type": "markdown",
   "metadata": {},
   "source": [
    "x_train, x_test, y_train, y_test = train_test_split(balanced_review, balanced_star,  stratify=balanced_star, test_size=0.3, random_state=42)\n",
    "\n",
    "print \"The distribution of y is \", Counter(balanced_star)\n",
    "print \"The distribution of y_train is\", Counter(y_train)\n",
    "print \"The distribution of y_test is\", Counter(y_test)\n",
    "\n",
    "np.save(\"balance_all_300/x_train\", x_train)\n",
    "np.save(\"balance_all_300/x_test\", x_test)\n",
    "np.save(\"balance_all_300/y_train\", y_train)\n",
    "np.save(\"balance_all_300/y_test\", y_test)"
   ]
  },
  {
   "cell_type": "markdown",
   "metadata": {},
   "source": [
    "plt.hist(balanced_star)\n",
    "plt.title(\"Distribution of Balanced Review Ratings\")\n",
    "plt.show()"
   ]
  },
  {
   "cell_type": "markdown",
   "metadata": {},
   "source": [
    "df = pd.DataFrame(data={'stars': stars, 'reviews': reviews})\n",
    "#df.to_excel('reviews_rating300limit.xlsx', sheet_name='sheet1', index=False)\n",
    "df.to_pickle('reviews_rating300limit_.pkl')  # where to save it, usually as a .pkl\n",
    "#df1 = pd.read_pickle('reviews_rating300limit.pkl')\n",
    "#4451334"
   ]
  }
 ],
 "metadata": {
  "kernelspec": {
   "display_name": "Python 2",
   "language": "python",
   "name": "python2"
  },
  "language_info": {
   "codemirror_mode": {
    "name": "ipython",
    "version": 2
   },
   "file_extension": ".py",
   "mimetype": "text/x-python",
   "name": "python",
   "nbconvert_exporter": "python",
   "pygments_lexer": "ipython2",
   "version": "2.7.14"
  }
 },
 "nbformat": 4,
 "nbformat_minor": 2
}
